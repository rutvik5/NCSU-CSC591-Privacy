{
 "cells": [
  {
   "cell_type": "code",
   "execution_count": 30,
   "metadata": {},
   "outputs": [],
   "source": [
    "#Question 5\n",
    "#Unity- rkolhe\n",
    "\n",
    "import pandas as pd\n",
    "import collections\n",
    "from matplotlib_venn import venn3"
   ]
  },
  {
   "cell_type": "code",
   "execution_count": 44,
   "metadata": {},
   "outputs": [],
   "source": [
    "#read csv file\n",
    "df = pd.read_csv('Tor_query_EXPORT.csv')"
   ]
  },
  {
   "cell_type": "code",
   "execution_count": 32,
   "metadata": {},
   "outputs": [
    {
     "name": "stdout",
     "output_type": "stream",
     "text": [
      "['DE', 'US', 'FR', 'NL', 'CA']\n"
     ]
    }
   ],
   "source": [
    "#Top 5 countries\n",
    "top_5_cont = [country[0] for country in collections.Counter(df['Country Code']).most_common(5)]\n",
    "print(top_5_cont)"
   ]
  },
  {
   "cell_type": "code",
   "execution_count": 79,
   "metadata": {},
   "outputs": [
    {
     "name": "stdout",
     "output_type": "stream",
     "text": [
      "         Router Name Country Code  Bandwidth (KB/s)  Uptime (Hours)  \\\n",
      "2418  LittleFoxRahja           DE           61443.0             9.0   \n",
      "5501         Unnamed           FR           67837.0           175.0   \n",
      "81           5efd8dd           DE           51947.0            88.0   \n",
      "5256         Unnamed           FR           48492.0           175.0   \n",
      "5288         Unnamed           FR           47051.0          2189.0   \n",
      "\n",
      "           IP Address                    Hostname  ORPort DirPort  \\\n",
      "2418     178.63.72.24            rahja.lf-net.org  9001.0    9030   \n",
      "5501   145.239.66.236  ns3082025.ip-145-239-66.eu  9001.0    9030   \n",
      "81    213.239.216.221            5efd8dd.retik.eu   443.0    None   \n",
      "5256      54.38.92.43    ns3127631.ip-54-38-92.eu  9001.0    9030   \n",
      "5288      5.39.69.166      ns340204.ip-5-39-69.eu  9001.0    9030   \n",
      "\n",
      "      Flag - Authority  Flag - Exit  ...  Flag - Valid  Flag - V2Dir  \\\n",
      "2418               0.0          0.0  ...           1.0           1.0   \n",
      "5501               0.0          0.0  ...           1.0           1.0   \n",
      "81                 0.0          0.0  ...           1.0           1.0   \n",
      "5256               0.0          0.0  ...           1.0           1.0   \n",
      "5288               0.0          0.0  ...           1.0           1.0   \n",
      "\n",
      "                        Platform  Flag - Hibernating  Flag - Bad Exit  \\\n",
      "2418        Tor 0.3.5.8 on Linux                 0.0              0.0   \n",
      "5501        Tor 0.4.1.6 on Linux                 0.0              0.0   \n",
      "81    Tor 0.4.2.2-alpha on Linux                 0.0              0.0   \n",
      "5256        Tor 0.4.1.6 on Linux                 0.0              0.0   \n",
      "5288        Tor 0.4.0.5 on Linux                 0.0              0.0   \n",
      "\n",
      "       FirstSeen          ASName ASNumber  ConsensusBandwidth  \\\n",
      "2418  2019-03-05  HETZNER-AS- DE    24940            170000.0   \n",
      "5501  2018-12-12         OVH- FR    16276            160000.0   \n",
      "81    2019-03-06  HETZNER-AS- DE    24940            153000.0   \n",
      "5256  2018-12-12         OVH- FR    16276            140000.0   \n",
      "5288  2019-04-16         OVH- FR    16276            131000.0   \n",
      "\n",
      "                      OrAddress  \n",
      "2418                       None  \n",
      "5501                       None  \n",
      "81    [2a01:4f8:a0:83e2::2]:443  \n",
      "5256                       None  \n",
      "5288                       None  \n",
      "\n",
      "[5 rows x 25 columns]\n"
     ]
    }
   ],
   "source": [
    "#Top 5 bandwidths\n",
    "most_common = df.mask(df['ConsensusBandwidth'].eq('None').fillna(0))\n",
    "most_common['ConsensusBandwidth'] = pd.to_numeric(most_common['ConsensusBandwidth'])\n",
    "most_common = most_common.nlargest(5, columns = 'ConsensusBandwidth')\n",
    "print(most_common)"
   ]
  },
  {
   "cell_type": "code",
   "execution_count": 80,
   "metadata": {},
   "outputs": [
    {
     "name": "stdout",
     "output_type": "stream",
     "text": [
      "Guard: 2123, Mid: 2898, Exit: 337\n",
      "Guard Bandwidth: 39983029, Mid Bandwidth: 6866388, Exit Bandwidth: 2700394\n"
     ]
    },
    {
     "data": {
      "text/plain": [
       "<matplotlib_venn._common.VennDiagram at 0x27499e6b940>"
      ]
     },
     "execution_count": 80,
     "metadata": {},
     "output_type": "execute_result"
    },
    {
     "data": {
      "image/png": "[encoded data removed]",
      "text/plain": [
       "<Figure size 432x288 with 1 Axes>"
      ]
     },
     "metadata": {},
     "output_type": "display_data"
    }
   ],
   "source": [
    "guard = df['Flag - Guard']\n",
    "guard = guard.fillna(0)\n",
    "guard_ids_1 = set(df.index[guard == 1])\n",
    "\n",
    "exit = df['Flag - Exit']\n",
    "exit = exit.fillna(0)\n",
    "exit_ids_1= set(df.index[exit == 1])\n",
    "\n",
    "guard_ids_0 = set(df.index[guard == 0])\n",
    "exit_ids_0= set(df.index[exit == 0])\n",
    "mid_ids = set()\n",
    "mid_ids = guard_ids_0.intersection(exit_ids_0)\n",
    "\n",
    "guard_only = guard_ids_1.difference(exit_ids_1)\n",
    "exit_only = exit_ids_1.difference(guard_ids_1)\n",
    "\n",
    "total_exit = len(exit_only)\n",
    "total_guard = len(guard_only)\n",
    "total_mid = len(mid_ids)\n",
    "\n",
    "bandwidth = df['ConsensusBandwidth']\n",
    "bandwidth = [0 if val == 'None' else int(val) for val in bandwidth]\n",
    "\n",
    "# print(bandwidth)\n",
    "guard_band = 0\n",
    "for index in guard_only:\n",
    "    guard_band += bandwidth[index]\n",
    "\n",
    "exit_band = 0\n",
    "for index in exit_only:\n",
    "    exit_band += bandwidth[index]\n",
    "    \n",
    "mid_band = 0\n",
    "for index in mid_ids:\n",
    "    mid_band += bandwidth[index]\n",
    "\n",
    "\n",
    "# print(f'Total: {total_valid}')\n",
    "print(f'Guard: {total_guard}, Mid: {total_mid}, Exit: {total_exit}')\n",
    "print(f'Guard Bandwidth: {guard_band}, Mid Bandwidth: {mid_band}, Exit Bandwidth: {exit_band}')\n",
    "\n",
    "venn3([guard_ids_1, exit_ids_1, mid_ids], ('Guard', 'Exit', 'Mid'))"
   ]
  },
  {
   "cell_type": "code",
   "execution_count": null,
   "metadata": {},
   "outputs": [],
   "source": []
  }
 ],
 "metadata": {
  "kernelspec": {
   "display_name": "Python 3",
   "language": "python",
   "name": "python3"
  },
  "language_info": {
   "codemirror_mode": {
    "name": "ipython",
    "version": 3
   },
   "file_extension": ".py",
   "mimetype": "text/x-python",
   "name": "python",
   "nbconvert_exporter": "python",
   "pygments_lexer": "ipython3",
   "version": "3.7.3"
  }
 },
 "nbformat": 4,
 "nbformat_minor": 2
}
